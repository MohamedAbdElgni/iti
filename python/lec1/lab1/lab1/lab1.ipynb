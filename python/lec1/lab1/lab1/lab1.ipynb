{
 "cells": [
  {
   "cell_type": "code",
   "execution_count": 1,
   "metadata": {},
   "outputs": [
    {
     "name": "stdout",
     "output_type": "stream",
     "text": [
      "3\n"
     ]
    }
   ],
   "source": [
    "##Q1\n",
    "vchars=[\"a\",\"e\",\"i\",\"o\",\"u\"]\n",
    "text=\"Mohamed\"\n",
    "conut=0\n",
    "for char in text.lower():\n",
    "    if char in vchars:\n",
    "        conut+=1\n",
    "\n",
    "print(conut)\n"
   ]
  },
  {
   "cell_type": "code",
   "execution_count": 6,
   "metadata": {},
   "outputs": [
    {
     "name": "stdout",
     "output_type": "stream",
     "text": [
      "3\n"
     ]
    }
   ],
   "source": [
    "#Q3\n",
    "txt_times=\"iti WelCome in iti lorem iti\"\n",
    "\n",
    "print(txt_times.lower().count('iti'))"
   ]
  },
  {
   "cell_type": "code",
   "execution_count": 22,
   "metadata": {},
   "outputs": [
    {
     "name": "stdout",
     "output_type": "stream",
     "text": [
      "mhmd\n"
     ]
    }
   ],
   "source": [
    "#Q4\n",
    "in_txt=\"mohamed\"\n",
    "brief=\"\"\n",
    "for char in in_txt.lower():\n",
    "    if char not in vchars:\n",
    "        brief+=char\n",
    "        \n",
    "print(brief)"
   ]
  },
  {
   "cell_type": "code",
   "execution_count": 11,
   "metadata": {},
   "outputs": [
    {
     "name": "stdout",
     "output_type": "stream",
     "text": [
      "i exists in index:- 0\n",
      "i exists in index:- 13\n",
      "i exists in index:- 16\n",
      "i exists in index:- 18\n",
      "i exists in index:- 23\n",
      "i exists in index:- 26\n"
     ]
    }
   ],
   "source": [
    "#Q5\n",
    "txt_locations=\"i'am Mohamed in iti banisuif\"\n",
    "x=0\n",
    "while x<len(txt_locations):\n",
    "    if txt_locations[x].lower()=='i':\n",
    "        print(f\"i exists in index:- {x}\")\n",
    "    x+=1\n",
    "    \n",
    "\n",
    "\n"
   ]
  },
  {
   "cell_type": "code",
   "execution_count": null,
   "metadata": {},
   "outputs": [],
   "source": [
    "#Q6"
   ]
  },
  {
   "cell_type": "code",
   "execution_count": 27,
   "metadata": {},
   "outputs": [
    {
     "name": "stdout",
     "output_type": "stream",
     "text": [
      "    *\n",
      "   **\n",
      "  ***\n",
      " ****\n"
     ]
    }
   ],
   "source": [
    "#Q7\n",
    "num=int(input(\"Enter a number:- \"))\n",
    "i = 1 \n",
    "while num>0:\n",
    "    print(\" \"*num+\"*\"*i)\n",
    "    i+=1\n",
    "    num-=1"
   ]
  },
  {
   "cell_type": "code",
   "execution_count": 10,
   "metadata": {},
   "outputs": [
    {
     "name": "stdout",
     "output_type": "stream",
     "text": [
      "[]\n"
     ]
    }
   ],
   "source": [
    "#Q6\n",
    "num=-1\n",
    "        \n",
    "multi=1\n",
    "my_list_for_user=[]\n",
    "temp=[]\n",
    "while multi<=num:\n",
    "    for i in range(1,multi+1):\n",
    "        temp.append(multi*i)\n",
    "    my_list_for_user.append(temp)\n",
    "    temp=[]\n",
    "    multi+=1\n",
    "print(my_list_for_user)\n"
   ]
  },
  {
   "cell_type": "code",
   "execution_count": 11,
   "metadata": {},
   "outputs": [
    {
     "name": "stdout",
     "output_type": "stream",
     "text": [
      "===============\n",
      "None\n",
      "===============\n",
      "None\n"
     ]
    }
   ],
   "source": [
    "#Q3\n",
    "\n",
    "#Q3\n",
    "num_of_elements=5\n",
    "i=0\n",
    "mylist=[]\n",
    "while i<num_of_elements:\n",
    "    x = input(f\"Enter elemnt {i+1}:- \")\n",
    "    mylist.append(x)\n",
    "    i+=1\n",
    "print(\"=\" * 25 )\n",
    "mylist.sort()\n",
    "print(mylist)\n",
    "print(\"=\" * 25)\n",
    "mylist.sort(reverse=True)\n",
    "print(mylist)\n",
    "\n",
    "    "
   ]
  },
  {
   "cell_type": "code",
   "execution_count": null,
   "metadata": {},
   "outputs": [],
   "source": []
  }
 ],
 "metadata": {
  "kernelspec": {
   "display_name": ".venv",
   "language": "python",
   "name": "python3"
  },
  "language_info": {
   "codemirror_mode": {
    "name": "ipython",
    "version": 3
   },
   "file_extension": ".py",
   "mimetype": "text/x-python",
   "name": "python",
   "nbconvert_exporter": "python",
   "pygments_lexer": "ipython3",
   "version": "3.11.7"
  }
 },
 "nbformat": 4,
 "nbformat_minor": 2
}
