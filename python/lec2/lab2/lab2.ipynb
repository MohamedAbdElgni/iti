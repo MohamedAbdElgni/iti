{
 "cells": [
  {
   "cell_type": "code",
   "execution_count": 1,
   "metadata": {},
   "outputs": [
    {
     "name": "stdout",
     "output_type": "stream",
     "text": [
      "hello world\n"
     ]
    }
   ],
   "source": [
    "print(\"hello world\")"
   ]
  },
  {
   "cell_type": "code",
   "execution_count": 7,
   "metadata": {},
   "outputs": [
    {
     "name": "stdout",
     "output_type": "stream",
     "text": [
      "[5, 6, 7, 8, 9]\n"
     ]
    }
   ],
   "source": [
    "def gen_arr(len=5, start=0):\n",
    "    mylist=[]\n",
    "    while len>0:\n",
    "        mylist.append(start)\n",
    "        start+=1\n",
    "        len-=1\n",
    "    return mylist\n",
    "\n",
    "print(gen_arr(5, 5))"
   ]
  },
  {
   "cell_type": "code",
   "execution_count": 20,
   "metadata": {},
   "outputs": [
    {
     "name": "stdout",
     "output_type": "stream",
     "text": [
      "fizzbuzz\n",
      "fizz\n",
      "buzz\n",
      "4 is not cannot divided by 3 or 5\n",
      "'@#' is not a num\n"
     ]
    }
   ],
   "source": [
    "def fubu(num):\n",
    "    if not isinstance(num, int):\n",
    "        return f\"'{num}' is not a num\"\n",
    "    else:\n",
    "        if num%3==0 and num%5==0:\n",
    "            return \"fizzbuzz\"\n",
    "        elif num%3==0:\n",
    "            return \"fizz\"\n",
    "        elif num%5==0:\n",
    "            return \"buzz\"\n",
    "        else:\n",
    "            return f\"'{num}' is not cannot divided by 3 or 5\"\n",
    "    \n",
    "print(fubu(15))\n",
    "print(fubu(3))\n",
    "print(fubu(5))\n",
    "print(fubu(4))\n",
    "print(fubu(\"@#\"))\n",
    "    "
   ]
  },
  {
   "cell_type": "code",
   "execution_count": 21,
   "metadata": {},
   "outputs": [
    {
     "name": "stdout",
     "output_type": "stream",
     "text": [
      "olleh\n"
     ]
    }
   ],
   "source": []
  },
  {
   "cell_type": "code",
   "execution_count": null,
   "metadata": {},
   "outputs": [],
   "source": []
  }
 ],
 "metadata": {
  "kernelspec": {
   "display_name": "Python 3",
   "language": "python",
   "name": "python3"
  },
  "language_info": {
   "codemirror_mode": {
    "name": "ipython",
    "version": 3
   },
   "file_extension": ".py",
   "mimetype": "text/x-python",
   "name": "python",
   "nbconvert_exporter": "python",
   "pygments_lexer": "ipython3",
   "version": "3.11.7"
  }
 },
 "nbformat": 4,
 "nbformat_minor": 2
}
